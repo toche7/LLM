{
 "cells": [
  {
   "cell_type": "code",
   "execution_count": 20,
   "metadata": {},
   "outputs": [
    {
     "name": "stdout",
     "output_type": "stream",
     "text": [
      "Requirement already satisfied: pip in ./.venv/lib/python3.11/site-packages (24.2)\n",
      "Requirement already satisfied: together in ./.venv/lib/python3.11/site-packages (1.2.12)\n",
      "Requirement already satisfied: aiohttp<4.0.0,>=3.9.3 in ./.venv/lib/python3.11/site-packages (from together) (3.9.5)\n",
      "Requirement already satisfied: click<9.0.0,>=8.1.7 in ./.venv/lib/python3.11/site-packages (from together) (8.1.7)\n",
      "Requirement already satisfied: eval-type-backport<0.3.0,>=0.1.3 in ./.venv/lib/python3.11/site-packages (from together) (0.2.0)\n",
      "Requirement already satisfied: filelock<4.0.0,>=3.13.1 in ./.venv/lib/python3.11/site-packages (from together) (3.16.1)\n",
      "Requirement already satisfied: numpy>=1.23.5 in ./.venv/lib/python3.11/site-packages (from together) (1.26.4)\n",
      "Requirement already satisfied: pillow<11.0.0,>=10.3.0 in ./.venv/lib/python3.11/site-packages (from together) (10.3.0)\n",
      "Requirement already satisfied: pyarrow>=10.0.1 in ./.venv/lib/python3.11/site-packages (from together) (17.0.0)\n",
      "Requirement already satisfied: pydantic<3.0.0,>=2.6.3 in ./.venv/lib/python3.11/site-packages (from together) (2.7.1)\n",
      "Requirement already satisfied: requests<3.0.0,>=2.31.0 in ./.venv/lib/python3.11/site-packages (from together) (2.31.0)\n",
      "Requirement already satisfied: tabulate<0.10.0,>=0.9.0 in ./.venv/lib/python3.11/site-packages (from together) (0.9.0)\n",
      "Requirement already satisfied: tqdm<5.0.0,>=4.66.2 in ./.venv/lib/python3.11/site-packages (from together) (4.66.4)\n",
      "Requirement already satisfied: typer<0.13,>=0.9 in ./.venv/lib/python3.11/site-packages (from together) (0.12.5)\n",
      "Requirement already satisfied: aiosignal>=1.1.2 in ./.venv/lib/python3.11/site-packages (from aiohttp<4.0.0,>=3.9.3->together) (1.3.1)\n",
      "Requirement already satisfied: attrs>=17.3.0 in ./.venv/lib/python3.11/site-packages (from aiohttp<4.0.0,>=3.9.3->together) (23.2.0)\n",
      "Requirement already satisfied: frozenlist>=1.1.1 in ./.venv/lib/python3.11/site-packages (from aiohttp<4.0.0,>=3.9.3->together) (1.4.1)\n",
      "Requirement already satisfied: multidict<7.0,>=4.5 in ./.venv/lib/python3.11/site-packages (from aiohttp<4.0.0,>=3.9.3->together) (6.0.5)\n",
      "Requirement already satisfied: yarl<2.0,>=1.0 in ./.venv/lib/python3.11/site-packages (from aiohttp<4.0.0,>=3.9.3->together) (1.9.4)\n",
      "Requirement already satisfied: annotated-types>=0.4.0 in ./.venv/lib/python3.11/site-packages (from pydantic<3.0.0,>=2.6.3->together) (0.6.0)\n",
      "Requirement already satisfied: pydantic-core==2.18.2 in ./.venv/lib/python3.11/site-packages (from pydantic<3.0.0,>=2.6.3->together) (2.18.2)\n",
      "Requirement already satisfied: typing-extensions>=4.6.1 in ./.venv/lib/python3.11/site-packages (from pydantic<3.0.0,>=2.6.3->together) (4.11.0)\n",
      "Requirement already satisfied: charset-normalizer<4,>=2 in ./.venv/lib/python3.11/site-packages (from requests<3.0.0,>=2.31.0->together) (3.3.2)\n",
      "Requirement already satisfied: idna<4,>=2.5 in ./.venv/lib/python3.11/site-packages (from requests<3.0.0,>=2.31.0->together) (3.7)\n",
      "Requirement already satisfied: urllib3<3,>=1.21.1 in ./.venv/lib/python3.11/site-packages (from requests<3.0.0,>=2.31.0->together) (2.2.1)\n",
      "Requirement already satisfied: certifi>=2017.4.17 in ./.venv/lib/python3.11/site-packages (from requests<3.0.0,>=2.31.0->together) (2024.2.2)\n",
      "Requirement already satisfied: shellingham>=1.3.0 in ./.venv/lib/python3.11/site-packages (from typer<0.13,>=0.9->together) (1.5.4)\n",
      "Requirement already satisfied: rich>=10.11.0 in ./.venv/lib/python3.11/site-packages (from typer<0.13,>=0.9->together) (13.8.1)\n",
      "Requirement already satisfied: markdown-it-py>=2.2.0 in ./.venv/lib/python3.11/site-packages (from rich>=10.11.0->typer<0.13,>=0.9->together) (3.0.0)\n",
      "Requirement already satisfied: pygments<3.0.0,>=2.13.0 in ./.venv/lib/python3.11/site-packages (from rich>=10.11.0->typer<0.13,>=0.9->together) (2.18.0)\n",
      "Requirement already satisfied: mdurl~=0.1 in ./.venv/lib/python3.11/site-packages (from markdown-it-py>=2.2.0->rich>=10.11.0->typer<0.13,>=0.9->together) (0.1.2)\n"
     ]
    }
   ],
   "source": [
    "!pip install --upgrade pip\n",
    "!pip install together "
   ]
  },
  {
   "cell_type": "code",
   "execution_count": 21,
   "metadata": {},
   "outputs": [],
   "source": [
    "from dotenv import load_dotenv, find_dotenv\n",
    "import os\n",
    "_ = load_dotenv(find_dotenv()) # read local .env file"
   ]
  },
  {
   "cell_type": "code",
   "execution_count": 22,
   "metadata": {},
   "outputs": [
    {
     "name": "stdout",
     "output_type": "stream",
     "text": [
      "New York City is a bustling metropolis filled with countless activities and attractions. Here are some fun things to do while you're in the Big Apple:\n",
      "\n",
      "1. **Visit Central Park**: Take a stroll, have a picnic, or enjoy a boat ride in the lake. Don't miss the Central Park Zoo, the Central Park Conservatory Garden, and the Bethesda Fountain.\n",
      "\n",
      "2. **Explore the Museums**: New York has some of the world's best museums. Check out the Metropolitan Museum of Art, the American Museum of Natural History, the Museum of Modern Art (MoMA), and the 9/11 Memorial & Museum.\n",
      "\n",
      "3. **Broadway Shows**: Catch a Broadway show at one of the many theaters. From musicals to plays, there's something for everyone.\n",
      "\n",
      "4. **Statue of Liberty and Ellis Island**: Take a ferry to Liberty Island to see the Statue of Liberty up close and visit Ellis Island to learn about America's immigration history.\n",
      "\n",
      "5. **Empire State Building and One World Observatory**: Get a bird's eye view of the city from the observation decks of these iconic skyscrapers.\n",
      "\n",
      "6. **Brooklyn Bridge**: Walk across this historic bridge for stunning views of the city skyline and the East River.\n",
      "\n",
      "7. **Chinatown and Little Italy**: Dive into the melting pot of New York City by exploring these vibrant neighborhoods, known for their food and culture.\n",
      "\n",
      "8. **Shopping**: Hit up the shops on Fifth Avenue or explore the boutiques in SoHo and Greenwich Village.\n",
      "\n",
      "9. **Food Tour**: Take a food tour to taste the diverse culinary offerings of NYC. From pizza to bagels, to street food and gourmet dining, NYC has it all.\n",
      "\n",
      "10. **Times Square**: Experience the hustle and bustle of this iconic square filled with billboards, shops, and entertainment.\n",
      "\n",
      "11. **Harlem**: Visit Harlem for its rich history, soulful music, and delicious soul food.\n",
      "\n",
      "12. **The High Line**: Walk along this unique public park built on a historic freight rail line.\n",
      "\n",
      "13. **Greenwich Village**: Explore the charming streets and historic buildings of this bohemian neighborhood.\n",
      "\n",
      "14. **Bronx Zoo**: Visit one of the largest metropolitan zoos in the world, home to over 6,000 animals.\n",
      "\n",
      "15. **Art Galleries in Chelsea**: Browse through the numerous art galleries showcasing contemporary art.\n",
      "\n",
      "16. **Coney Island**: Take a trip to this classic seaside amusement park for a day of rides, games, and beach fun.\n",
      "\n",
      "17. **Ice Skating at Rockefeller Center**: Enjoy ice skating during the winter months at this iconic spot.\n",
      "\n",
      "18. **Theater District**: Besides Broadway, explore off-Broadway and off-off-Broadway shows for more intimate and innovative theater experiences.\n",
      "\n",
      "19. **Katz's Delicatessen**: Try a classic pastrami sandwich at this historic deli.\n",
      "\n",
      "20. **New York Botanical Garden**: Enjoy the beauty of nature at this vast garden, featuring various landscapes and habitats.\n",
      "\n",
      "Each neighborhood in New York City offers its own unique attractions and experiences, making it a vibrant and exciting place to visit."
     ]
    }
   ],
   "source": [
    "# Querying chat models with Together AI\n",
    "\n",
    "from langchain_together import ChatTogether\n",
    "\n",
    "# choose from our 50+ models here: https://docs.together.ai/docs/inference-models\n",
    "chat = ChatTogether(\n",
    "    # together_api_key=\"YOUR_API_KEY\",\n",
    "    model=\"Qwen/Qwen2-72B-Instruct\",\n",
    ")\n",
    "\n",
    "# stream the response back from the model\n",
    "for m in chat.stream(\"Tell me fun things to do in NYC\"):\n",
    "    print(m.content, end=\"\", flush=True)\n",
    "\n",
    "# if you don't want to do streaming, you can use the invoke method\n",
    "# chat.invoke(\"Tell me fun things to do in NYC\")"
   ]
  },
  {
   "cell_type": "code",
   "execution_count": 23,
   "metadata": {},
   "outputs": [
    {
     "data": {
      "text/plain": [
       "\"PP Island, also known as Phi Phi Island, is located in the Andaman Sea in Thailand. It's part of the Krabi province and is situated between the large island of Phuket and the western Strait of Malacca coast of the Malay Peninsula. It's a popular tourist destination known for its stunning beaches, clear waters, and vibrant coral reefs.\""
      ]
     },
     "execution_count": 23,
     "metadata": {},
     "output_type": "execute_result"
    }
   ],
   "source": [
    "response = chat.invoke(\"Where is PP island located?\")\n",
    "# pharse the response to simple text\n",
    "response.content\n"
   ]
  }
 ],
 "metadata": {
  "kernelspec": {
   "display_name": ".venv",
   "language": "python",
   "name": "python3"
  },
  "language_info": {
   "codemirror_mode": {
    "name": "ipython",
    "version": 3
   },
   "file_extension": ".py",
   "mimetype": "text/x-python",
   "name": "python",
   "nbconvert_exporter": "python",
   "pygments_lexer": "ipython3",
   "version": "3.11.8"
  }
 },
 "nbformat": 4,
 "nbformat_minor": 2
}
