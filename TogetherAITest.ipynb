{
 "cells": [
  {
   "cell_type": "code",
   "execution_count": null,
   "metadata": {},
   "outputs": [],
   "source": [
    "!pip install --upgrade pip\n",
    "!pip install together "
   ]
  },
  {
   "cell_type": "code",
   "execution_count": 21,
   "metadata": {},
   "outputs": [],
   "source": [
    "from dotenv import load_dotenv, find_dotenv\n",
    "import os\n",
    "_ = load_dotenv(find_dotenv()) # read local .env file"
   ]
  },
  {
   "cell_type": "code",
   "execution_count": null,
   "metadata": {},
   "outputs": [],
   "source": [
    "# Querying chat models with Together AI\n",
    "\n",
    "from langchain_together import ChatTogether\n",
    "\n",
    "# choose from our 50+ models here: https://docs.together.ai/docs/inference-models\n",
    "chat = ChatTogether(\n",
    "    # together_api_key=\"YOUR_API_KEY\",\n",
    "    model=\"Qwen/Qwen2-72B-Instruct\",\n",
    ")\n",
    "\n",
    "# stream the response back from the model\n",
    "for m in chat.stream(\"Tell me fun things to do in NYC\"):\n",
    "    print(m.content, end=\"\", flush=True)\n",
    "\n",
    "# if you don't want to do streaming, you can use the invoke method\n",
    "# chat.invoke(\"Tell me fun things to do in NYC\")"
   ]
  },
  {
   "cell_type": "code",
   "execution_count": null,
   "metadata": {},
   "outputs": [],
   "source": [
    "response = chat.invoke(\"Where is PP island located?\")\n",
    "# pharse the response to simple text\n",
    "response.content\n"
   ]
  }
 ],
 "metadata": {
  "kernelspec": {
   "display_name": ".venv",
   "language": "python",
   "name": "python3"
  },
  "language_info": {
   "codemirror_mode": {
    "name": "ipython",
    "version": 3
   },
   "file_extension": ".py",
   "mimetype": "text/x-python",
   "name": "python",
   "nbconvert_exporter": "python",
   "pygments_lexer": "ipython3",
   "version": "3.11.8"
  }
 },
 "nbformat": 4,
 "nbformat_minor": 2
}
