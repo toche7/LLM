{
 "cells": [
  {
   "cell_type": "markdown",
   "metadata": {},
   "source": [
    "\n",
    "# Categorize Expense Data"
   ]
  },
  {
   "cell_type": "markdown",
   "metadata": {},
   "source": [
    "### Test the LLM"
   ]
  },
  {
   "cell_type": "code",
   "execution_count": null,
   "metadata": {},
   "outputs": [],
   "source": [
    "#!pip -q install groq"
   ]
  },
  {
   "cell_type": "code",
   "execution_count": 1,
   "metadata": {
    "metadata": {}
   },
   "outputs": [],
   "source": [
    "from dotenv import find_dotenv, load_dotenv\n",
    "_ = load_dotenv(find_dotenv())\n",
    "import os\n"
   ]
  },
  {
   "cell_type": "code",
   "execution_count": 2,
   "metadata": {
    "metadata": {}
   },
   "outputs": [],
   "source": [
    "from groq import Groq\n",
    "\n",
    "clientGroq = Groq(\n",
    "    api_key=os.environ.get(\"GROQ_API_KEY\"),\n",
    ")\n"
   ]
  },
  {
   "cell_type": "code",
   "execution_count": null,
   "metadata": {
    "metadata": {}
   },
   "outputs": [],
   "source": [
    "llm = Ollama(model=\"llama3\")\n",
    "llm.invoke(\"what country is the krabi province in?\")"
   ]
  },
  {
   "cell_type": "code",
   "execution_count": 3,
   "metadata": {},
   "outputs": [],
   "source": [
    "def get_completion(prompt, model= \"llama3-70b-8192\", clientGroq = clientGroq):\n",
    "    messages = [{\"role\": \"user\", \"content\": prompt}]\n",
    "    response = clientGroq.chat.completions.create(\n",
    "        model=model,\n",
    "        messages=messages,\n",
    "        temperature=0,\n",
    "        max_tokens= 4000,\n",
    "        top_p = 0.5\n",
    "    )\n",
    "    return response.choices[0].message.content"
   ]
  },
  {
   "cell_type": "markdown",
   "metadata": {},
   "source": [
    "### Import Data"
   ]
  },
  {
   "cell_type": "code",
   "execution_count": 4,
   "metadata": {
    "metadata": {}
   },
   "outputs": [
    {
     "data": {
      "text/html": [
       "<div>\n",
       "<style scoped>\n",
       "    .dataframe tbody tr th:only-of-type {\n",
       "        vertical-align: middle;\n",
       "    }\n",
       "\n",
       "    .dataframe tbody tr th {\n",
       "        vertical-align: top;\n",
       "    }\n",
       "\n",
       "    .dataframe thead th {\n",
       "        text-align: right;\n",
       "    }\n",
       "</style>\n",
       "<table border=\"1\" class=\"dataframe\">\n",
       "  <thead>\n",
       "    <tr style=\"text-align: right;\">\n",
       "      <th></th>\n",
       "      <th>Date</th>\n",
       "      <th>Name / Description</th>\n",
       "      <th>Expense/Income</th>\n",
       "      <th>Amount (EUR)</th>\n",
       "    </tr>\n",
       "  </thead>\n",
       "  <tbody>\n",
       "    <tr>\n",
       "      <th>0</th>\n",
       "      <td>2023-12-30</td>\n",
       "      <td>Belastingdienst</td>\n",
       "      <td>Expense</td>\n",
       "      <td>9.96</td>\n",
       "    </tr>\n",
       "    <tr>\n",
       "      <th>1</th>\n",
       "      <td>2023-12-30</td>\n",
       "      <td>Tesco Breda</td>\n",
       "      <td>Expense</td>\n",
       "      <td>17.53</td>\n",
       "    </tr>\n",
       "    <tr>\n",
       "      <th>2</th>\n",
       "      <td>2023-12-30</td>\n",
       "      <td>Monthly Appartment Rent</td>\n",
       "      <td>Expense</td>\n",
       "      <td>451.00</td>\n",
       "    </tr>\n",
       "    <tr>\n",
       "      <th>3</th>\n",
       "      <td>2023-12-30</td>\n",
       "      <td>Vishandel Sier Amsterdam</td>\n",
       "      <td>Expense</td>\n",
       "      <td>12.46</td>\n",
       "    </tr>\n",
       "    <tr>\n",
       "      <th>4</th>\n",
       "      <td>2023-12-29</td>\n",
       "      <td>Selling Paintings</td>\n",
       "      <td>Income</td>\n",
       "      <td>13.63</td>\n",
       "    </tr>\n",
       "  </tbody>\n",
       "</table>\n",
       "</div>"
      ],
      "text/plain": [
       "         Date        Name / Description Expense/Income  Amount (EUR)\n",
       "0  2023-12-30           Belastingdienst        Expense          9.96\n",
       "1  2023-12-30               Tesco Breda        Expense         17.53\n",
       "2  2023-12-30   Monthly Appartment Rent        Expense        451.00\n",
       "3  2023-12-30  Vishandel Sier Amsterdam        Expense         12.46\n",
       "4  2023-12-29         Selling Paintings         Income         13.63"
      ]
     },
     "execution_count": 4,
     "metadata": {},
     "output_type": "execute_result"
    }
   ],
   "source": [
    "# Read the transactions_2022_2023.csv file \n",
    "import pandas as pd\n",
    "df = pd.read_csv(\"transactions_2022_2023.csv\")\n",
    "df.head()"
   ]
  },
  {
   "cell_type": "code",
   "execution_count": 5,
   "metadata": {
    "metadata": {}
   },
   "outputs": [
    {
     "data": {
      "text/plain": [
       "23"
      ]
     },
     "execution_count": 5,
     "metadata": {},
     "output_type": "execute_result"
    }
   ],
   "source": [
    "# Get unique transactions in the Name / Description column\n",
    "unique_transactions = df[\"Name / Description\"].unique()\n",
    "len(unique_transactions)"
   ]
  },
  {
   "cell_type": "code",
   "execution_count": 6,
   "metadata": {
    "metadata": {}
   },
   "outputs": [
    {
     "data": {
      "text/plain": [
       "array(['Tesco Breda', 'Monthly Appartment Rent',\n",
       "       'Vishandel Sier Amsterdam', 'Selling Paintings',\n",
       "       'Spotify Ab By Adyen', 'Tk Maxx Amsterdam Da', 'Consulting',\n",
       "       'Aidsfonds', 'Tls Bv Inz Ov-Chipkaart'], dtype=object)"
      ]
     },
     "execution_count": 6,
     "metadata": {},
     "output_type": "execute_result"
    }
   ],
   "source": [
    "unique_transactions[1:10]"
   ]
  },
  {
   "cell_type": "markdown",
   "metadata": {},
   "source": [
    "### Categorize Transection with LLM"
   ]
  },
  {
   "cell_type": "code",
   "execution_count": 7,
   "metadata": {
    "metadata": {}
   },
   "outputs": [
    {
     "data": {
      "text/plain": [
       "[0, 5, 10, 15, 20, 23]"
      ]
     },
     "execution_count": 7,
     "metadata": {},
     "output_type": "execute_result"
    }
   ],
   "source": [
    "# Get index list\n",
    "#https://stackoverflow.com/questions/47518609/for-loop-range-and-interval-how-to-include-last-step\n",
    "def hop(start, stop, step):\n",
    "    for i in range(start, stop, step):\n",
    "        yield i\n",
    "    yield stop\n",
    "\n",
    "index_list = list(hop(0, len(unique_transactions), 5))\n",
    "index_list"
   ]
  },
  {
   "cell_type": "code",
   "execution_count": 9,
   "metadata": {
    "metadata": {}
   },
   "outputs": [],
   "source": [
    "def categorize_transactions(transaction_names):\n",
    "    response = get_completion(\"Can you add an appropriate category to the following expenses. For example: Spotify AB by Adyen - Entertainment, Beta Boulders Ams Amsterdam Nld - Sport, etc.. Categories should be less than 4 words. \" + transaction_names)\n",
    "    response = response.split('\\n')\n",
    "\n",
    "    print(response)\n",
    "\n",
    "    # Put in dataframe\n",
    "    categories_df = pd.DataFrame({'Transaction vs category': response})\n",
    "    categories_df[['Transaction', 'Category']] = categories_df['Transaction vs category'].str.split(' - ', expand=True)\n",
    "    \n",
    "    return categories_df"
   ]
  },
  {
   "cell_type": "code",
   "execution_count": 10,
   "metadata": {
    "metadata": {}
   },
   "outputs": [
    {
     "name": "stdout",
     "output_type": "stream",
     "text": [
      "['Here are the categorized expenses:', '', '* ISS Catering Services De Meern - Food', '* Taxi Utrecht - Transport', '* Etos AMSTERDAM NLD - Health', '* Bistro Bar Amsterdam - Food']\n"
     ]
    },
    {
     "data": {
      "text/html": [
       "<div>\n",
       "<style scoped>\n",
       "    .dataframe tbody tr th:only-of-type {\n",
       "        vertical-align: middle;\n",
       "    }\n",
       "\n",
       "    .dataframe tbody tr th {\n",
       "        vertical-align: top;\n",
       "    }\n",
       "\n",
       "    .dataframe thead th {\n",
       "        text-align: right;\n",
       "    }\n",
       "</style>\n",
       "<table border=\"1\" class=\"dataframe\">\n",
       "  <thead>\n",
       "    <tr style=\"text-align: right;\">\n",
       "      <th></th>\n",
       "      <th>Transaction vs category</th>\n",
       "      <th>Transaction</th>\n",
       "      <th>Category</th>\n",
       "    </tr>\n",
       "  </thead>\n",
       "  <tbody>\n",
       "    <tr>\n",
       "      <th>0</th>\n",
       "      <td>Here are the categorized expenses:</td>\n",
       "      <td>Here are the categorized expenses:</td>\n",
       "      <td>None</td>\n",
       "    </tr>\n",
       "    <tr>\n",
       "      <th>1</th>\n",
       "      <td></td>\n",
       "      <td></td>\n",
       "      <td>None</td>\n",
       "    </tr>\n",
       "    <tr>\n",
       "      <th>2</th>\n",
       "      <td>* ISS Catering Services De Meern - Food</td>\n",
       "      <td>* ISS Catering Services De Meern</td>\n",
       "      <td>Food</td>\n",
       "    </tr>\n",
       "    <tr>\n",
       "      <th>3</th>\n",
       "      <td>* Taxi Utrecht - Transport</td>\n",
       "      <td>* Taxi Utrecht</td>\n",
       "      <td>Transport</td>\n",
       "    </tr>\n",
       "    <tr>\n",
       "      <th>4</th>\n",
       "      <td>* Etos AMSTERDAM NLD - Health</td>\n",
       "      <td>* Etos AMSTERDAM NLD</td>\n",
       "      <td>Health</td>\n",
       "    </tr>\n",
       "    <tr>\n",
       "      <th>5</th>\n",
       "      <td>* Bistro Bar Amsterdam - Food</td>\n",
       "      <td>* Bistro Bar Amsterdam</td>\n",
       "      <td>Food</td>\n",
       "    </tr>\n",
       "  </tbody>\n",
       "</table>\n",
       "</div>"
      ],
      "text/plain": [
       "                   Transaction vs category  \\\n",
       "0       Here are the categorized expenses:   \n",
       "1                                            \n",
       "2  * ISS Catering Services De Meern - Food   \n",
       "3               * Taxi Utrecht - Transport   \n",
       "4            * Etos AMSTERDAM NLD - Health   \n",
       "5            * Bistro Bar Amsterdam - Food   \n",
       "\n",
       "                          Transaction   Category  \n",
       "0  Here are the categorized expenses:       None  \n",
       "1                                           None  \n",
       "2    * ISS Catering Services De Meern       Food  \n",
       "3                      * Taxi Utrecht  Transport  \n",
       "4                * Etos AMSTERDAM NLD     Health  \n",
       "5              * Bistro Bar Amsterdam       Food  "
      ]
     },
     "execution_count": 10,
     "metadata": {},
     "output_type": "execute_result"
    }
   ],
   "source": [
    "# Test out the function\n",
    "categorize_transactions('ISS Catering Services De Meern, Taxi Utrecht, Etos AMSTERDAM NLD, Bistro Bar Amsterdam')"
   ]
  },
  {
   "cell_type": "code",
   "execution_count": 11,
   "metadata": {
    "metadata": {}
   },
   "outputs": [
    {
     "name": "stdout",
     "output_type": "stream",
     "text": [
      "['Here are the categorized expenses:', '', '* Belastingdienst - Taxes', '* Tesco Breda - Groceries', '* Monthly Appartment Rent - Rent', '* Vishandel Sier Amsterdam - Food', '* Selling Paintings - Income']\n",
      "['Here are the categorized expenses:', '', '* Spotify Ab By Adyen - Entertainment', '* Tk Maxx Amsterdam Da - Shopping', '* Consulting - Work', '* Aidsfonds - Charity', '* Tls Bv Inz Ov-Chipkaart - Transportation']\n",
      "['Here are the categorized expenses:', '', '* Etos Amsterdam - Health', '* Beta Boulders Ams Amsterdam Nld - Sport', '* Salary - Income', '* Bouldermuur Bv Amsterdam - Sport', '* Birtat Restaurant Amsterdam - Food']\n",
      "['Here are the categorized expenses:', '', '* Spotify AB by Adyen - Entertainment', '* Beta Boulders Ams Amsterdam Nld - Sport', '* Freelancing - Work', '* Tikkie - Transfer', '* Blogging - Work', '* Taxi Utrecht - Transport', '* Apple Services - Tech']\n",
      "['Here are the categorized expenses:', '', '* Spotify AB by Adyen - Entertainment', '* Beta Boulders Ams Amsterdam Nld - Sport', '* Amazon Lux - Shopping', '* Classpass* Monthly - Fitness', '* Audible Uk AdblCo/Pymt Gbr - Entertainment']\n"
     ]
    }
   ],
   "source": [
    "# Intialise the categories_df_all dataframe\n",
    "categories_df_all = pd.DataFrame()\n",
    "\n",
    "# Loop through the index_list\n",
    "for i in range(0, len(index_list)-1):\n",
    "    transaction_names = unique_transactions[index_list[i]:index_list[i+1]]\n",
    "    transaction_names = ','.join(transaction_names)\n",
    "\n",
    "    categories_df = categorize_transactions(transaction_names)\n",
    "    categories_df_all = pd.concat([categories_df_all, categories_df], ignore_index=True)"
   ]
  },
  {
   "cell_type": "code",
   "execution_count": null,
   "metadata": {},
   "outputs": [],
   "source": [
    "categories_df_all"
   ]
  },
  {
   "cell_type": "code",
   "execution_count": 13,
   "metadata": {
    "metadata": {}
   },
   "outputs": [
    {
     "data": {
      "text/plain": [
       "array(['Taxes', 'Groceries', 'Rent', 'Food', 'Income', 'Entertainment',\n",
       "       'Shopping', 'Work', 'Charity', 'Transportation', 'Health', 'Sport',\n",
       "       'Transfer', 'Transport', 'Tech', 'Fitness'], dtype=object)"
      ]
     },
     "execution_count": 13,
     "metadata": {},
     "output_type": "execute_result"
    }
   ],
   "source": [
    "# Get unique categories in categories_df_all\n",
    "unique_categories = categories_df_all[\"Category\"].unique()\n",
    "unique_categories"
   ]
  },
  {
   "cell_type": "code",
   "execution_count": 12,
   "metadata": {
    "metadata": {}
   },
   "outputs": [],
   "source": [
    "# Drop NA values\n",
    "categories_df_all = categories_df_all.dropna()"
   ]
  },
  {
   "cell_type": "code",
   "execution_count": 14,
   "metadata": {
    "metadata": {}
   },
   "outputs": [
    {
     "data": {
      "text/html": [
       "<div>\n",
       "<style scoped>\n",
       "    .dataframe tbody tr th:only-of-type {\n",
       "        vertical-align: middle;\n",
       "    }\n",
       "\n",
       "    .dataframe tbody tr th {\n",
       "        vertical-align: top;\n",
       "    }\n",
       "\n",
       "    .dataframe thead th {\n",
       "        text-align: right;\n",
       "    }\n",
       "</style>\n",
       "<table border=\"1\" class=\"dataframe\">\n",
       "  <thead>\n",
       "    <tr style=\"text-align: right;\">\n",
       "      <th></th>\n",
       "      <th>Transaction vs category</th>\n",
       "      <th>Transaction</th>\n",
       "      <th>Category</th>\n",
       "    </tr>\n",
       "  </thead>\n",
       "  <tbody>\n",
       "    <tr>\n",
       "      <th>2</th>\n",
       "      <td>* Belastingdienst - Taxes</td>\n",
       "      <td>* Belastingdienst</td>\n",
       "      <td>Taxes</td>\n",
       "    </tr>\n",
       "    <tr>\n",
       "      <th>3</th>\n",
       "      <td>* Tesco Breda - Groceries</td>\n",
       "      <td>* Tesco Breda</td>\n",
       "      <td>Groceries</td>\n",
       "    </tr>\n",
       "    <tr>\n",
       "      <th>4</th>\n",
       "      <td>* Monthly Appartment Rent - Rent</td>\n",
       "      <td>* Monthly Appartment Rent</td>\n",
       "      <td>Rent</td>\n",
       "    </tr>\n",
       "    <tr>\n",
       "      <th>5</th>\n",
       "      <td>* Vishandel Sier Amsterdam - Food</td>\n",
       "      <td>* Vishandel Sier Amsterdam</td>\n",
       "      <td>Food</td>\n",
       "    </tr>\n",
       "    <tr>\n",
       "      <th>6</th>\n",
       "      <td>* Selling Paintings - Income</td>\n",
       "      <td>* Selling Paintings</td>\n",
       "      <td>Income</td>\n",
       "    </tr>\n",
       "    <tr>\n",
       "      <th>9</th>\n",
       "      <td>* Spotify Ab By Adyen - Entertainment</td>\n",
       "      <td>* Spotify Ab By Adyen</td>\n",
       "      <td>Entertainment</td>\n",
       "    </tr>\n",
       "    <tr>\n",
       "      <th>10</th>\n",
       "      <td>* Tk Maxx Amsterdam Da - Shopping</td>\n",
       "      <td>* Tk Maxx Amsterdam Da</td>\n",
       "      <td>Shopping</td>\n",
       "    </tr>\n",
       "    <tr>\n",
       "      <th>11</th>\n",
       "      <td>* Consulting - Work</td>\n",
       "      <td>* Consulting</td>\n",
       "      <td>Work</td>\n",
       "    </tr>\n",
       "    <tr>\n",
       "      <th>12</th>\n",
       "      <td>* Aidsfonds - Charity</td>\n",
       "      <td>* Aidsfonds</td>\n",
       "      <td>Charity</td>\n",
       "    </tr>\n",
       "    <tr>\n",
       "      <th>13</th>\n",
       "      <td>* Tls Bv Inz Ov-Chipkaart - Transportation</td>\n",
       "      <td>* Tls Bv Inz Ov-Chipkaart</td>\n",
       "      <td>Transportation</td>\n",
       "    </tr>\n",
       "    <tr>\n",
       "      <th>16</th>\n",
       "      <td>* Etos Amsterdam - Health</td>\n",
       "      <td>* Etos Amsterdam</td>\n",
       "      <td>Health</td>\n",
       "    </tr>\n",
       "    <tr>\n",
       "      <th>17</th>\n",
       "      <td>* Beta Boulders Ams Amsterdam Nld - Sport</td>\n",
       "      <td>* Beta Boulders Ams Amsterdam Nld</td>\n",
       "      <td>Sport</td>\n",
       "    </tr>\n",
       "    <tr>\n",
       "      <th>18</th>\n",
       "      <td>* Salary - Income</td>\n",
       "      <td>* Salary</td>\n",
       "      <td>Income</td>\n",
       "    </tr>\n",
       "    <tr>\n",
       "      <th>19</th>\n",
       "      <td>* Bouldermuur Bv Amsterdam - Sport</td>\n",
       "      <td>* Bouldermuur Bv Amsterdam</td>\n",
       "      <td>Sport</td>\n",
       "    </tr>\n",
       "    <tr>\n",
       "      <th>20</th>\n",
       "      <td>* Birtat Restaurant Amsterdam - Food</td>\n",
       "      <td>* Birtat Restaurant Amsterdam</td>\n",
       "      <td>Food</td>\n",
       "    </tr>\n",
       "    <tr>\n",
       "      <th>23</th>\n",
       "      <td>* Spotify AB by Adyen - Entertainment</td>\n",
       "      <td>* Spotify AB by Adyen</td>\n",
       "      <td>Entertainment</td>\n",
       "    </tr>\n",
       "    <tr>\n",
       "      <th>24</th>\n",
       "      <td>* Beta Boulders Ams Amsterdam Nld - Sport</td>\n",
       "      <td>* Beta Boulders Ams Amsterdam Nld</td>\n",
       "      <td>Sport</td>\n",
       "    </tr>\n",
       "    <tr>\n",
       "      <th>25</th>\n",
       "      <td>* Freelancing - Work</td>\n",
       "      <td>* Freelancing</td>\n",
       "      <td>Work</td>\n",
       "    </tr>\n",
       "    <tr>\n",
       "      <th>26</th>\n",
       "      <td>* Tikkie - Transfer</td>\n",
       "      <td>* Tikkie</td>\n",
       "      <td>Transfer</td>\n",
       "    </tr>\n",
       "    <tr>\n",
       "      <th>27</th>\n",
       "      <td>* Blogging - Work</td>\n",
       "      <td>* Blogging</td>\n",
       "      <td>Work</td>\n",
       "    </tr>\n",
       "    <tr>\n",
       "      <th>28</th>\n",
       "      <td>* Taxi Utrecht - Transport</td>\n",
       "      <td>* Taxi Utrecht</td>\n",
       "      <td>Transport</td>\n",
       "    </tr>\n",
       "    <tr>\n",
       "      <th>29</th>\n",
       "      <td>* Apple Services - Tech</td>\n",
       "      <td>* Apple Services</td>\n",
       "      <td>Tech</td>\n",
       "    </tr>\n",
       "    <tr>\n",
       "      <th>32</th>\n",
       "      <td>* Spotify AB by Adyen - Entertainment</td>\n",
       "      <td>* Spotify AB by Adyen</td>\n",
       "      <td>Entertainment</td>\n",
       "    </tr>\n",
       "    <tr>\n",
       "      <th>33</th>\n",
       "      <td>* Beta Boulders Ams Amsterdam Nld - Sport</td>\n",
       "      <td>* Beta Boulders Ams Amsterdam Nld</td>\n",
       "      <td>Sport</td>\n",
       "    </tr>\n",
       "    <tr>\n",
       "      <th>34</th>\n",
       "      <td>* Amazon Lux - Shopping</td>\n",
       "      <td>* Amazon Lux</td>\n",
       "      <td>Shopping</td>\n",
       "    </tr>\n",
       "    <tr>\n",
       "      <th>35</th>\n",
       "      <td>* Classpass* Monthly - Fitness</td>\n",
       "      <td>* Classpass* Monthly</td>\n",
       "      <td>Fitness</td>\n",
       "    </tr>\n",
       "    <tr>\n",
       "      <th>36</th>\n",
       "      <td>* Audible Uk AdblCo/Pymt Gbr - Entertainment</td>\n",
       "      <td>* Audible Uk AdblCo/Pymt Gbr</td>\n",
       "      <td>Entertainment</td>\n",
       "    </tr>\n",
       "  </tbody>\n",
       "</table>\n",
       "</div>"
      ],
      "text/plain": [
       "                         Transaction vs category  \\\n",
       "2                      * Belastingdienst - Taxes   \n",
       "3                      * Tesco Breda - Groceries   \n",
       "4               * Monthly Appartment Rent - Rent   \n",
       "5              * Vishandel Sier Amsterdam - Food   \n",
       "6                   * Selling Paintings - Income   \n",
       "9          * Spotify Ab By Adyen - Entertainment   \n",
       "10             * Tk Maxx Amsterdam Da - Shopping   \n",
       "11                           * Consulting - Work   \n",
       "12                         * Aidsfonds - Charity   \n",
       "13    * Tls Bv Inz Ov-Chipkaart - Transportation   \n",
       "16                     * Etos Amsterdam - Health   \n",
       "17     * Beta Boulders Ams Amsterdam Nld - Sport   \n",
       "18                             * Salary - Income   \n",
       "19            * Bouldermuur Bv Amsterdam - Sport   \n",
       "20          * Birtat Restaurant Amsterdam - Food   \n",
       "23         * Spotify AB by Adyen - Entertainment   \n",
       "24     * Beta Boulders Ams Amsterdam Nld - Sport   \n",
       "25                          * Freelancing - Work   \n",
       "26                           * Tikkie - Transfer   \n",
       "27                             * Blogging - Work   \n",
       "28                    * Taxi Utrecht - Transport   \n",
       "29                       * Apple Services - Tech   \n",
       "32         * Spotify AB by Adyen - Entertainment   \n",
       "33     * Beta Boulders Ams Amsterdam Nld - Sport   \n",
       "34                       * Amazon Lux - Shopping   \n",
       "35                * Classpass* Monthly - Fitness   \n",
       "36  * Audible Uk AdblCo/Pymt Gbr - Entertainment   \n",
       "\n",
       "                          Transaction        Category  \n",
       "2                   * Belastingdienst           Taxes  \n",
       "3                       * Tesco Breda       Groceries  \n",
       "4           * Monthly Appartment Rent            Rent  \n",
       "5          * Vishandel Sier Amsterdam            Food  \n",
       "6                 * Selling Paintings          Income  \n",
       "9               * Spotify Ab By Adyen   Entertainment  \n",
       "10             * Tk Maxx Amsterdam Da        Shopping  \n",
       "11                       * Consulting            Work  \n",
       "12                        * Aidsfonds         Charity  \n",
       "13          * Tls Bv Inz Ov-Chipkaart  Transportation  \n",
       "16                   * Etos Amsterdam          Health  \n",
       "17  * Beta Boulders Ams Amsterdam Nld           Sport  \n",
       "18                           * Salary          Income  \n",
       "19         * Bouldermuur Bv Amsterdam           Sport  \n",
       "20      * Birtat Restaurant Amsterdam            Food  \n",
       "23              * Spotify AB by Adyen   Entertainment  \n",
       "24  * Beta Boulders Ams Amsterdam Nld           Sport  \n",
       "25                      * Freelancing            Work  \n",
       "26                           * Tikkie        Transfer  \n",
       "27                         * Blogging            Work  \n",
       "28                     * Taxi Utrecht       Transport  \n",
       "29                   * Apple Services            Tech  \n",
       "32              * Spotify AB by Adyen   Entertainment  \n",
       "33  * Beta Boulders Ams Amsterdam Nld           Sport  \n",
       "34                       * Amazon Lux        Shopping  \n",
       "35               * Classpass* Monthly         Fitness  \n",
       "36       * Audible Uk AdblCo/Pymt Gbr   Entertainment  "
      ]
     },
     "execution_count": 14,
     "metadata": {},
     "output_type": "execute_result"
    }
   ],
   "source": [
    "categories_df_all"
   ]
  },
  {
   "cell_type": "code",
   "execution_count": 15,
   "metadata": {
    "metadata": {}
   },
   "outputs": [
    {
     "data": {
      "text/html": [
       "<div>\n",
       "<style scoped>\n",
       "    .dataframe tbody tr th:only-of-type {\n",
       "        vertical-align: middle;\n",
       "    }\n",
       "\n",
       "    .dataframe tbody tr th {\n",
       "        vertical-align: top;\n",
       "    }\n",
       "\n",
       "    .dataframe thead th {\n",
       "        text-align: right;\n",
       "    }\n",
       "</style>\n",
       "<table border=\"1\" class=\"dataframe\">\n",
       "  <thead>\n",
       "    <tr style=\"text-align: right;\">\n",
       "      <th></th>\n",
       "      <th>Transaction vs category</th>\n",
       "      <th>Transaction</th>\n",
       "      <th>Category</th>\n",
       "    </tr>\n",
       "  </thead>\n",
       "  <tbody>\n",
       "    <tr>\n",
       "      <th>2</th>\n",
       "      <td>* Belastingdienst - Taxes</td>\n",
       "      <td>* Belastingdienst</td>\n",
       "      <td>Taxes</td>\n",
       "    </tr>\n",
       "    <tr>\n",
       "      <th>3</th>\n",
       "      <td>* Tesco Breda - Groceries</td>\n",
       "      <td>* Tesco Breda</td>\n",
       "      <td>Groceries</td>\n",
       "    </tr>\n",
       "    <tr>\n",
       "      <th>4</th>\n",
       "      <td>* Monthly Appartment Rent - Rent</td>\n",
       "      <td>* Monthly Appartment Rent</td>\n",
       "      <td>Rent</td>\n",
       "    </tr>\n",
       "    <tr>\n",
       "      <th>5</th>\n",
       "      <td>* Vishandel Sier Amsterdam - Food</td>\n",
       "      <td>* Vishandel Sier Amsterdam</td>\n",
       "      <td>Food</td>\n",
       "    </tr>\n",
       "    <tr>\n",
       "      <th>6</th>\n",
       "      <td>* Selling Paintings - Income</td>\n",
       "      <td>* Selling Paintings</td>\n",
       "      <td>Income</td>\n",
       "    </tr>\n",
       "    <tr>\n",
       "      <th>9</th>\n",
       "      <td>* Spotify Ab By Adyen - Entertainment</td>\n",
       "      <td>* Spotify Ab By Adyen</td>\n",
       "      <td>Entertainment</td>\n",
       "    </tr>\n",
       "    <tr>\n",
       "      <th>10</th>\n",
       "      <td>* Tk Maxx Amsterdam Da - Shopping</td>\n",
       "      <td>* Tk Maxx Amsterdam Da</td>\n",
       "      <td>Shopping</td>\n",
       "    </tr>\n",
       "    <tr>\n",
       "      <th>11</th>\n",
       "      <td>* Consulting - Work</td>\n",
       "      <td>* Consulting</td>\n",
       "      <td>Work</td>\n",
       "    </tr>\n",
       "    <tr>\n",
       "      <th>12</th>\n",
       "      <td>* Aidsfonds - Charity</td>\n",
       "      <td>* Aidsfonds</td>\n",
       "      <td>Charity</td>\n",
       "    </tr>\n",
       "    <tr>\n",
       "      <th>13</th>\n",
       "      <td>* Tls Bv Inz Ov-Chipkaart - Transportation</td>\n",
       "      <td>* Tls Bv Inz Ov-Chipkaart</td>\n",
       "      <td>Transportation</td>\n",
       "    </tr>\n",
       "    <tr>\n",
       "      <th>16</th>\n",
       "      <td>* Etos Amsterdam - Health</td>\n",
       "      <td>* Etos Amsterdam</td>\n",
       "      <td>Health</td>\n",
       "    </tr>\n",
       "    <tr>\n",
       "      <th>17</th>\n",
       "      <td>* Beta Boulders Ams Amsterdam Nld - Sport</td>\n",
       "      <td>* Beta Boulders Ams Amsterdam Nld</td>\n",
       "      <td>Sport</td>\n",
       "    </tr>\n",
       "    <tr>\n",
       "      <th>18</th>\n",
       "      <td>* Salary - Income</td>\n",
       "      <td>* Salary</td>\n",
       "      <td>Income</td>\n",
       "    </tr>\n",
       "    <tr>\n",
       "      <th>19</th>\n",
       "      <td>* Bouldermuur Bv Amsterdam - Sport</td>\n",
       "      <td>* Bouldermuur Bv Amsterdam</td>\n",
       "      <td>Sport</td>\n",
       "    </tr>\n",
       "    <tr>\n",
       "      <th>20</th>\n",
       "      <td>* Birtat Restaurant Amsterdam - Food</td>\n",
       "      <td>* Birtat Restaurant Amsterdam</td>\n",
       "      <td>Food</td>\n",
       "    </tr>\n",
       "    <tr>\n",
       "      <th>23</th>\n",
       "      <td>* Spotify AB by Adyen - Entertainment</td>\n",
       "      <td>* Spotify AB by Adyen</td>\n",
       "      <td>Entertainment</td>\n",
       "    </tr>\n",
       "    <tr>\n",
       "      <th>24</th>\n",
       "      <td>* Beta Boulders Ams Amsterdam Nld - Sport</td>\n",
       "      <td>* Beta Boulders Ams Amsterdam Nld</td>\n",
       "      <td>Sport</td>\n",
       "    </tr>\n",
       "    <tr>\n",
       "      <th>25</th>\n",
       "      <td>* Freelancing - Work</td>\n",
       "      <td>* Freelancing</td>\n",
       "      <td>Work</td>\n",
       "    </tr>\n",
       "    <tr>\n",
       "      <th>26</th>\n",
       "      <td>* Tikkie - Transfer</td>\n",
       "      <td>* Tikkie</td>\n",
       "      <td>Transfer</td>\n",
       "    </tr>\n",
       "    <tr>\n",
       "      <th>27</th>\n",
       "      <td>* Blogging - Work</td>\n",
       "      <td>* Blogging</td>\n",
       "      <td>Work</td>\n",
       "    </tr>\n",
       "    <tr>\n",
       "      <th>28</th>\n",
       "      <td>* Taxi Utrecht - Transport</td>\n",
       "      <td>* Taxi Utrecht</td>\n",
       "      <td>Transport</td>\n",
       "    </tr>\n",
       "    <tr>\n",
       "      <th>29</th>\n",
       "      <td>* Apple Services - Tech</td>\n",
       "      <td>* Apple Services</td>\n",
       "      <td>Tech</td>\n",
       "    </tr>\n",
       "    <tr>\n",
       "      <th>32</th>\n",
       "      <td>* Spotify AB by Adyen - Entertainment</td>\n",
       "      <td>* Spotify AB by Adyen</td>\n",
       "      <td>Entertainment</td>\n",
       "    </tr>\n",
       "    <tr>\n",
       "      <th>33</th>\n",
       "      <td>* Beta Boulders Ams Amsterdam Nld - Sport</td>\n",
       "      <td>* Beta Boulders Ams Amsterdam Nld</td>\n",
       "      <td>Sport</td>\n",
       "    </tr>\n",
       "    <tr>\n",
       "      <th>34</th>\n",
       "      <td>* Amazon Lux - Shopping</td>\n",
       "      <td>* Amazon Lux</td>\n",
       "      <td>Shopping</td>\n",
       "    </tr>\n",
       "    <tr>\n",
       "      <th>35</th>\n",
       "      <td>* Classpass* Monthly - Fitness</td>\n",
       "      <td>* Classpass* Monthly</td>\n",
       "      <td>Fitness</td>\n",
       "    </tr>\n",
       "    <tr>\n",
       "      <th>36</th>\n",
       "      <td>* Audible Uk AdblCo/Pymt Gbr - Entertainment</td>\n",
       "      <td>* Audible Uk AdblCo/Pymt Gbr</td>\n",
       "      <td>Entertainment</td>\n",
       "    </tr>\n",
       "  </tbody>\n",
       "</table>\n",
       "</div>"
      ],
      "text/plain": [
       "                         Transaction vs category  \\\n",
       "2                      * Belastingdienst - Taxes   \n",
       "3                      * Tesco Breda - Groceries   \n",
       "4               * Monthly Appartment Rent - Rent   \n",
       "5              * Vishandel Sier Amsterdam - Food   \n",
       "6                   * Selling Paintings - Income   \n",
       "9          * Spotify Ab By Adyen - Entertainment   \n",
       "10             * Tk Maxx Amsterdam Da - Shopping   \n",
       "11                           * Consulting - Work   \n",
       "12                         * Aidsfonds - Charity   \n",
       "13    * Tls Bv Inz Ov-Chipkaart - Transportation   \n",
       "16                     * Etos Amsterdam - Health   \n",
       "17     * Beta Boulders Ams Amsterdam Nld - Sport   \n",
       "18                             * Salary - Income   \n",
       "19            * Bouldermuur Bv Amsterdam - Sport   \n",
       "20          * Birtat Restaurant Amsterdam - Food   \n",
       "23         * Spotify AB by Adyen - Entertainment   \n",
       "24     * Beta Boulders Ams Amsterdam Nld - Sport   \n",
       "25                          * Freelancing - Work   \n",
       "26                           * Tikkie - Transfer   \n",
       "27                             * Blogging - Work   \n",
       "28                    * Taxi Utrecht - Transport   \n",
       "29                       * Apple Services - Tech   \n",
       "32         * Spotify AB by Adyen - Entertainment   \n",
       "33     * Beta Boulders Ams Amsterdam Nld - Sport   \n",
       "34                       * Amazon Lux - Shopping   \n",
       "35                * Classpass* Monthly - Fitness   \n",
       "36  * Audible Uk AdblCo/Pymt Gbr - Entertainment   \n",
       "\n",
       "                          Transaction        Category  \n",
       "2                   * Belastingdienst           Taxes  \n",
       "3                       * Tesco Breda       Groceries  \n",
       "4           * Monthly Appartment Rent            Rent  \n",
       "5          * Vishandel Sier Amsterdam            Food  \n",
       "6                 * Selling Paintings          Income  \n",
       "9               * Spotify Ab By Adyen   Entertainment  \n",
       "10             * Tk Maxx Amsterdam Da        Shopping  \n",
       "11                       * Consulting            Work  \n",
       "12                        * Aidsfonds         Charity  \n",
       "13          * Tls Bv Inz Ov-Chipkaart  Transportation  \n",
       "16                   * Etos Amsterdam          Health  \n",
       "17  * Beta Boulders Ams Amsterdam Nld           Sport  \n",
       "18                           * Salary          Income  \n",
       "19         * Bouldermuur Bv Amsterdam           Sport  \n",
       "20      * Birtat Restaurant Amsterdam            Food  \n",
       "23              * Spotify AB by Adyen   Entertainment  \n",
       "24  * Beta Boulders Ams Amsterdam Nld           Sport  \n",
       "25                      * Freelancing            Work  \n",
       "26                           * Tikkie        Transfer  \n",
       "27                         * Blogging            Work  \n",
       "28                     * Taxi Utrecht       Transport  \n",
       "29                   * Apple Services            Tech  \n",
       "32              * Spotify AB by Adyen   Entertainment  \n",
       "33  * Beta Boulders Ams Amsterdam Nld           Sport  \n",
       "34                       * Amazon Lux        Shopping  \n",
       "35               * Classpass* Monthly         Fitness  \n",
       "36       * Audible Uk AdblCo/Pymt Gbr   Entertainment  "
      ]
     },
     "execution_count": 15,
     "metadata": {},
     "output_type": "execute_result"
    }
   ],
   "source": [
    "# Remove the numbering eg \"1. \" from Transaction column\n",
    "categories_df_all['Transaction'] = categories_df_all['Transaction'].str.replace(r'\\d+\\.\\s+', '', regex=True)\n",
    "categories_df_all"
   ]
  },
  {
   "cell_type": "code",
   "execution_count": 16,
   "metadata": {
    "metadata": {}
   },
   "outputs": [
    {
     "data": {
      "image/png": "[encoded data removed]",
      "text/plain": [
       "<Figure size 640x480 with 1 Axes>"
      ]
     },
     "metadata": {},
     "output_type": "display_data"
    }
   ],
   "source": [
    "# Plot the top 5 categories in pie chart of the categories_df_all dataframe\n",
    "categories_df_all['Category'].value_counts().head(5).plot.pie(autopct='%1.1f%%')\n",
    "\n",
    "import matplotlib.pyplot as plt\n",
    "\n"
   ]
  },
  {
   "cell_type": "code",
   "execution_count": null,
   "metadata": {},
   "outputs": [],
   "source": []
  }
 ],
 "metadata": {
  "kernelspec": {
   "display_name": "venvTest",
   "language": "python",
   "name": "python3"
  },
  "language_info": {
   "codemirror_mode": {
    "name": "ipython",
    "version": 3
   },
   "file_extension": ".py",
   "mimetype": "text/x-python",
   "name": "python",
   "nbconvert_exporter": "python",
   "pygments_lexer": "ipython3",
   "version": "3.11.8"
  }
 },
 "nbformat": 4,
 "nbformat_minor": 2
}
